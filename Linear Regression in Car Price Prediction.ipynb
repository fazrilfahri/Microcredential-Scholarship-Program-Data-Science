{
 "cells": [
  {
   "cell_type": "markdown",
   "id": "11eed3c2",
   "metadata": {},
   "source": [
    "# Analisis Dataset Supervised Learning Prediksi Mobil dengan Regresi Linear\n",
    "\n",
    "**Nama:** Muhammad Fazril Fahri\n",
    "\n",
    "**Host:** Universitas Gunadarma\n",
    "\n",
    "Dalam analisis dataset ini, kami melakukan prediksi harga mobil berdasarkan berbagai fitur, dengan menggunakan metode regresi linear. Analisis ini dilakukan dengan tujuan untuk memahami hubungan antara fitur-fitur tersebut dan harga mobil, serta untuk membangun model yang dapat memprediksi harga mobil dengan akurasi yang baik.\n"
   ]
  },
  {
   "cell_type": "code",
   "execution_count": 1,
   "id": "ef053a85",
   "metadata": {},
   "outputs": [],
   "source": [
    "import pandas as pd\n",
    "import numpy as np \n",
    "import matplotlib.pyplot as plt\n",
    "%matplotlib inline\n",
    "import seaborn as sns\n",
    "from scipy import stats\n",
    "from sklearn.linear_model import LinearRegression\n",
    "from sklearn.model_selection import train_test_split"
   ]
  },
  {
   "cell_type": "markdown",
   "id": "01fe3407",
   "metadata": {},
   "source": [
    "## Karakteristik Utama Kumpulan Data\n",
    "\n",
    "**Siapa?**\n",
    "- Kasus yang saya teliti adalah kasus memprediksi harga mobil berdasarkan tenaga kuda (horsepower) dengan metode regresi linear.\n",
    "- Jumlah kasus dalam kumpulan data ini adalah [jumlah kasus Anda].\n",
    "\n",
    "**Apa?**\n",
    "- Terdapat dua variabel dalam kumpulan data ini:\n",
    "  - Horsepower adalah variabel kuantitatif yang memiliki tipe data float64.\n",
    "  - Price adalah variabel kuantitatif yang juga memiliki tipe data float64.\n",
    "\n",
    "**Mengapa?**\n",
    "- Tujuan dari kumpulan data ini adalah untuk memprediksi harga mobil berdasarkan horsepower.\n",
    "- Data ini digunakan untuk menjawab pertanyaan terkait hubungan antara horsepower dan harga mobil.\n",
    "- Variabel yang direkam sesuai dengan tujuan analisis ini.\n",
    "\n"
   ]
  },
  {
   "cell_type": "code",
   "execution_count": 2,
   "id": "778e36ec",
   "metadata": {},
   "outputs": [
    {
     "data": {
      "text/html": [
       "<div>\n",
       "<style scoped>\n",
       "    .dataframe tbody tr th:only-of-type {\n",
       "        vertical-align: middle;\n",
       "    }\n",
       "\n",
       "    .dataframe tbody tr th {\n",
       "        vertical-align: top;\n",
       "    }\n",
       "\n",
       "    .dataframe thead th {\n",
       "        text-align: right;\n",
       "    }\n",
       "</style>\n",
       "<table border=\"1\" class=\"dataframe\">\n",
       "  <thead>\n",
       "    <tr style=\"text-align: right;\">\n",
       "      <th></th>\n",
       "      <th>Unnamed: 0</th>\n",
       "      <th>horsepower</th>\n",
       "      <th>price</th>\n",
       "    </tr>\n",
       "  </thead>\n",
       "  <tbody>\n",
       "    <tr>\n",
       "      <th>0</th>\n",
       "      <td>0</td>\n",
       "      <td>111.0</td>\n",
       "      <td>13495.0</td>\n",
       "    </tr>\n",
       "    <tr>\n",
       "      <th>1</th>\n",
       "      <td>1</td>\n",
       "      <td>111.0</td>\n",
       "      <td>16500.0</td>\n",
       "    </tr>\n",
       "    <tr>\n",
       "      <th>2</th>\n",
       "      <td>2</td>\n",
       "      <td>154.0</td>\n",
       "      <td>16500.0</td>\n",
       "    </tr>\n",
       "    <tr>\n",
       "      <th>3</th>\n",
       "      <td>3</td>\n",
       "      <td>102.0</td>\n",
       "      <td>13950.0</td>\n",
       "    </tr>\n",
       "    <tr>\n",
       "      <th>4</th>\n",
       "      <td>4</td>\n",
       "      <td>115.0</td>\n",
       "      <td>17450.0</td>\n",
       "    </tr>\n",
       "  </tbody>\n",
       "</table>\n",
       "</div>"
      ],
      "text/plain": [
       "   Unnamed: 0  horsepower    price\n",
       "0           0       111.0  13495.0\n",
       "1           1       111.0  16500.0\n",
       "2           2       154.0  16500.0\n",
       "3           3       102.0  13950.0\n",
       "4           4       115.0  17450.0"
      ]
     },
     "execution_count": 2,
     "metadata": {},
     "output_type": "execute_result"
    }
   ],
   "source": [
    "df=pd.read_csv('prediksimobil.csv')\n",
    "df.head() "
   ]
  },
  {
   "cell_type": "markdown",
   "id": "a13e86ba",
   "metadata": {},
   "source": [
    "## 1. DATA RANK DIURUTKAN TERBAWAH DENGAN MENAMPILKAN DATA DIBAWAH\n"
   ]
  },
  {
   "cell_type": "code",
   "execution_count": 3,
   "id": "1e2ab799",
   "metadata": {},
   "outputs": [
    {
     "data": {
      "text/html": [
       "<div>\n",
       "<style scoped>\n",
       "    .dataframe tbody tr th:only-of-type {\n",
       "        vertical-align: middle;\n",
       "    }\n",
       "\n",
       "    .dataframe tbody tr th {\n",
       "        vertical-align: top;\n",
       "    }\n",
       "\n",
       "    .dataframe thead th {\n",
       "        text-align: right;\n",
       "    }\n",
       "</style>\n",
       "<table border=\"1\" class=\"dataframe\">\n",
       "  <thead>\n",
       "    <tr style=\"text-align: right;\">\n",
       "      <th></th>\n",
       "      <th>horsepower</th>\n",
       "      <th>price</th>\n",
       "    </tr>\n",
       "  </thead>\n",
       "  <tbody>\n",
       "    <tr>\n",
       "      <th>0</th>\n",
       "      <td>111.0</td>\n",
       "      <td>13495.0</td>\n",
       "    </tr>\n",
       "    <tr>\n",
       "      <th>1</th>\n",
       "      <td>111.0</td>\n",
       "      <td>16500.0</td>\n",
       "    </tr>\n",
       "    <tr>\n",
       "      <th>2</th>\n",
       "      <td>154.0</td>\n",
       "      <td>16500.0</td>\n",
       "    </tr>\n",
       "    <tr>\n",
       "      <th>3</th>\n",
       "      <td>102.0</td>\n",
       "      <td>13950.0</td>\n",
       "    </tr>\n",
       "    <tr>\n",
       "      <th>4</th>\n",
       "      <td>115.0</td>\n",
       "      <td>17450.0</td>\n",
       "    </tr>\n",
       "    <tr>\n",
       "      <th>...</th>\n",
       "      <td>...</td>\n",
       "      <td>...</td>\n",
       "    </tr>\n",
       "    <tr>\n",
       "      <th>195</th>\n",
       "      <td>114.0</td>\n",
       "      <td>16845.0</td>\n",
       "    </tr>\n",
       "    <tr>\n",
       "      <th>196</th>\n",
       "      <td>160.0</td>\n",
       "      <td>19045.0</td>\n",
       "    </tr>\n",
       "    <tr>\n",
       "      <th>197</th>\n",
       "      <td>134.0</td>\n",
       "      <td>21485.0</td>\n",
       "    </tr>\n",
       "    <tr>\n",
       "      <th>198</th>\n",
       "      <td>106.0</td>\n",
       "      <td>22470.0</td>\n",
       "    </tr>\n",
       "    <tr>\n",
       "      <th>199</th>\n",
       "      <td>114.0</td>\n",
       "      <td>22625.0</td>\n",
       "    </tr>\n",
       "  </tbody>\n",
       "</table>\n",
       "<p>200 rows × 2 columns</p>\n",
       "</div>"
      ],
      "text/plain": [
       "     horsepower    price\n",
       "0         111.0  13495.0\n",
       "1         111.0  16500.0\n",
       "2         154.0  16500.0\n",
       "3         102.0  13950.0\n",
       "4         115.0  17450.0\n",
       "..          ...      ...\n",
       "195       114.0  16845.0\n",
       "196       160.0  19045.0\n",
       "197       134.0  21485.0\n",
       "198       106.0  22470.0\n",
       "199       114.0  22625.0\n",
       "\n",
       "[200 rows x 2 columns]"
      ]
     },
     "execution_count": 3,
     "metadata": {},
     "output_type": "execute_result"
    }
   ],
   "source": [
    "new = df.drop(['Unnamed: 0'],axis = 1)\n",
    "new"
   ]
  },
  {
   "cell_type": "code",
   "execution_count": 4,
   "id": "9be19f3d",
   "metadata": {},
   "outputs": [
    {
     "data": {
      "text/plain": [
       "horsepower    float64\n",
       "price         float64\n",
       "dtype: object"
      ]
     },
     "execution_count": 4,
     "metadata": {},
     "output_type": "execute_result"
    }
   ],
   "source": [
    "new.dtypes"
   ]
  },
  {
   "cell_type": "markdown",
   "id": "793e9337",
   "metadata": {},
   "source": [
    "## Penanganan Missing Values\n",
    "\n",
    "Sebelum melanjutkan ke tahap eksplorasi data, kami melakukan pengecekan terhadap data untuk mengidentifikasi keberadaan missing values. Hasil pengecekan menunjukkan bahwa data yang kami periksa tidak mengandung missing values.\n",
    "\n",
    "Hal ini berarti semua variabel dalam dataset memiliki nilai yang lengkap, dan kami dapat melanjutkan ke tahap eksplorasi data tanpa perlu melakukan imputasi atau penggantian nilai yang hilang.\n",
    "\n",
    "Ketidakberadaan missing values adalah langkah positif dalam memastikan integritas data dan mempermudah analisis selanjutnya.\n"
   ]
  },
  {
   "cell_type": "code",
   "execution_count": 5,
   "id": "4030f450",
   "metadata": {},
   "outputs": [
    {
     "name": "stdout",
     "output_type": "stream",
     "text": [
      "horsepower    0\n",
      "price         0\n",
      "dtype: int64\n"
     ]
    }
   ],
   "source": [
    "print(new.isnull().sum())"
   ]
  },
  {
   "cell_type": "markdown",
   "id": "21077861",
   "metadata": {},
   "source": [
    "## Informasi Data\n",
    "\n",
    "Untuk memahami lebih lanjut tentang dataset ini, kami telah melihat beberapa informasi dasar sebagai berikut:\n",
    "\n",
    "- Jumlah kolom: [2]\n",
    "- Tipe data: [float64]\n",
    "\n",
    "Dengan informasi ini, kami dapat memahami seberapa besar dataset ini, jumlah variabel yang tersedia, dan jenis tipe data yang ada di dalamnya.\n",
    "\n",
    "Selanjutnya, kami akan melanjutkan untuk mengeksplorasi lebih lanjut dataset ini untuk mendapatkan wawasan yang lebih mendalam.\n"
   ]
  },
  {
   "cell_type": "code",
   "execution_count": 6,
   "id": "b99a2773",
   "metadata": {},
   "outputs": [
    {
     "name": "stdout",
     "output_type": "stream",
     "text": [
      "<class 'pandas.core.frame.DataFrame'>\n",
      "RangeIndex: 200 entries, 0 to 199\n",
      "Data columns (total 2 columns):\n",
      " #   Column      Non-Null Count  Dtype  \n",
      "---  ------      --------------  -----  \n",
      " 0   horsepower  200 non-null    float64\n",
      " 1   price       200 non-null    float64\n",
      "dtypes: float64(2)\n",
      "memory usage: 3.2 KB\n"
     ]
    }
   ],
   "source": [
    "new.info()"
   ]
  },
  {
   "cell_type": "markdown",
   "id": "987ea655",
   "metadata": {},
   "source": [
    "## Informasi Jumlah Kolom dan Baris\n",
    "\n",
    "Dalam dataset kami, terdapat 2 kolom dan 200 baris data.\n",
    "\n",
    "Informasi ini memberikan gambaran singkat tentang ukuran dataset kami, dengan dua kolom yang memuat data variabel dan 200 baris yang mewakili observasi atau kasus yang diamati dalam dataset ini.\n"
   ]
  },
  {
   "cell_type": "code",
   "execution_count": 7,
   "id": "53279d63",
   "metadata": {},
   "outputs": [
    {
     "data": {
      "text/plain": [
       "(200, 2)"
      ]
     },
     "execution_count": 7,
     "metadata": {},
     "output_type": "execute_result"
    }
   ],
   "source": [
    "new.shape"
   ]
  },
  {
   "cell_type": "markdown",
   "id": "49de2b2a",
   "metadata": {},
   "source": [
    "## Statistik Deskriptif Data"
   ]
  },
  {
   "cell_type": "code",
   "execution_count": 8,
   "id": "a8ad714a",
   "metadata": {},
   "outputs": [
    {
     "data": {
      "text/html": [
       "<div>\n",
       "<style scoped>\n",
       "    .dataframe tbody tr th:only-of-type {\n",
       "        vertical-align: middle;\n",
       "    }\n",
       "\n",
       "    .dataframe tbody tr th {\n",
       "        vertical-align: top;\n",
       "    }\n",
       "\n",
       "    .dataframe thead th {\n",
       "        text-align: right;\n",
       "    }\n",
       "</style>\n",
       "<table border=\"1\" class=\"dataframe\">\n",
       "  <thead>\n",
       "    <tr style=\"text-align: right;\">\n",
       "      <th></th>\n",
       "      <th>horsepower</th>\n",
       "      <th>price</th>\n",
       "    </tr>\n",
       "  </thead>\n",
       "  <tbody>\n",
       "    <tr>\n",
       "      <th>count</th>\n",
       "      <td>200.000000</td>\n",
       "      <td>200.000000</td>\n",
       "    </tr>\n",
       "    <tr>\n",
       "      <th>mean</th>\n",
       "      <td>103.320000</td>\n",
       "      <td>13230.375000</td>\n",
       "    </tr>\n",
       "    <tr>\n",
       "      <th>std</th>\n",
       "      <td>37.468615</td>\n",
       "      <td>7960.155239</td>\n",
       "    </tr>\n",
       "    <tr>\n",
       "      <th>min</th>\n",
       "      <td>48.000000</td>\n",
       "      <td>5118.000000</td>\n",
       "    </tr>\n",
       "    <tr>\n",
       "      <th>25%</th>\n",
       "      <td>70.000000</td>\n",
       "      <td>7775.000000</td>\n",
       "    </tr>\n",
       "    <tr>\n",
       "      <th>50%</th>\n",
       "      <td>95.000000</td>\n",
       "      <td>10320.000000</td>\n",
       "    </tr>\n",
       "    <tr>\n",
       "      <th>75%</th>\n",
       "      <td>116.000000</td>\n",
       "      <td>16500.750000</td>\n",
       "    </tr>\n",
       "    <tr>\n",
       "      <th>max</th>\n",
       "      <td>262.000000</td>\n",
       "      <td>45400.000000</td>\n",
       "    </tr>\n",
       "  </tbody>\n",
       "</table>\n",
       "</div>"
      ],
      "text/plain": [
       "       horsepower         price\n",
       "count  200.000000    200.000000\n",
       "mean   103.320000  13230.375000\n",
       "std     37.468615   7960.155239\n",
       "min     48.000000   5118.000000\n",
       "25%     70.000000   7775.000000\n",
       "50%     95.000000  10320.000000\n",
       "75%    116.000000  16500.750000\n",
       "max    262.000000  45400.000000"
      ]
     },
     "execution_count": 8,
     "metadata": {},
     "output_type": "execute_result"
    }
   ],
   "source": [
    "new.describe()"
   ]
  },
  {
   "cell_type": "code",
   "execution_count": 9,
   "id": "9d88715d",
   "metadata": {},
   "outputs": [
    {
     "name": "stderr",
     "output_type": "stream",
     "text": [
      "D:\\College\\Anaconda\\lib\\site-packages\\seaborn\\_decorators.py:36: FutureWarning: Pass the following variable as a keyword arg: x. From version 0.12, the only valid positional argument will be `data`, and passing other arguments without an explicit keyword will result in an error or misinterpretation.\n",
      "  warnings.warn(\n"
     ]
    },
    {
     "data": {
      "text/plain": [
       "<AxesSubplot:xlabel='horsepower', ylabel='count'>"
      ]
     },
     "execution_count": 9,
     "metadata": {},
     "output_type": "execute_result"
    },
    {
     "data": {
      "image/png": "[encoded data removed]",
      "text/plain": [
       "<Figure size 432x288 with 1 Axes>"
      ]
     },
     "metadata": {
      "needs_background": "light"
     },
     "output_type": "display_data"
    }
   ],
   "source": [
    "sns.countplot(new['horsepower']) "
   ]
  },
  {
   "cell_type": "code",
   "execution_count": 10,
   "id": "7a75564b",
   "metadata": {},
   "outputs": [
    {
     "name": "stderr",
     "output_type": "stream",
     "text": [
      "D:\\College\\Anaconda\\lib\\site-packages\\seaborn\\_decorators.py:36: FutureWarning: Pass the following variable as a keyword arg: x. From version 0.12, the only valid positional argument will be `data`, and passing other arguments without an explicit keyword will result in an error or misinterpretation.\n",
      "  warnings.warn(\n"
     ]
    },
    {
     "data": {
      "text/plain": [
       "<AxesSubplot:xlabel='price', ylabel='count'>"
      ]
     },
     "execution_count": 10,
     "metadata": {},
     "output_type": "execute_result"
    },
    {
     "data": {
      "image/png": "[encoded data removed]",
      "text/plain": [
       "<Figure size 432x288 with 1 Axes>"
      ]
     },
     "metadata": {
      "needs_background": "light"
     },
     "output_type": "display_data"
    }
   ],
   "source": [
    "sns.countplot(new['price']) "
   ]
  },
  {
   "cell_type": "code",
   "execution_count": 11,
   "id": "b556d5f0",
   "metadata": {},
   "outputs": [
    {
     "name": "stderr",
     "output_type": "stream",
     "text": [
      "D:\\College\\Anaconda\\lib\\site-packages\\seaborn\\distributions.py:2557: FutureWarning: `distplot` is a deprecated function and will be removed in a future version. Please adapt your code to use either `displot` (a figure-level function with similar flexibility) or `histplot` (an axes-level function for histograms).\n",
      "  warnings.warn(msg, FutureWarning)\n"
     ]
    },
    {
     "data": {
      "text/plain": [
       "<AxesSubplot:xlabel='horsepower'>"
      ]
     },
     "execution_count": 11,
     "metadata": {},
     "output_type": "execute_result"
    },
    {
     "data": {
      "image/png": "[encoded data removed]",
      "text/plain": [
       "<Figure size 432x288 with 1 Axes>"
      ]
     },
     "metadata": {
      "needs_background": "light"
     },
     "output_type": "display_data"
    }
   ],
   "source": [
    "sns.distplot(new['horsepower'],kde=False, color='blue', bins=50)"
   ]
  },
  {
   "cell_type": "code",
   "execution_count": 12,
   "id": "d94c19b0",
   "metadata": {},
   "outputs": [
    {
     "data": {
      "text/plain": [
       "<AxesSubplot:xlabel='price'>"
      ]
     },
     "execution_count": 12,
     "metadata": {},
     "output_type": "execute_result"
    },
    {
     "data": {
      "image/png": "[encoded data removed]",
      "text/plain": [
       "<Figure size 432x288 with 1 Axes>"
      ]
     },
     "metadata": {
      "needs_background": "light"
     },
     "output_type": "display_data"
    }
   ],
   "source": [
    "sns.distplot(new['price'],kde=False, color='blue', bins=50)"
   ]
  },
  {
   "cell_type": "markdown",
   "id": "d9a6a2fd",
   "metadata": {},
   "source": [
    "## Analisis Data, Distribusi, Eksplorasi, dan Persiapan Data\n",
    "\n",
    "Dalam tahap ini, kami melakukan analisis awal terhadap dataset kami, termasuk distribusi data, eksplorasi fitur-fitur utama, dan persiapan data untuk langkah-langkah selanjutnya.\n",
    "\n",
    "### Distribusi Data\n",
    "- Kami memeriksa distribusi data untuk masing-masing kolom dalam dataset kami.\n",
    "- Kami mengidentifikasi apakah ada kecenderungan tertentu dalam distribusi data seperti distribusi normal atau skewness.\n",
    "\n",
    "### Eksplorasi Data\n",
    "- Kami melakukan eksplorasi fitur-fitur utama dalam dataset untuk memahami karakteristik mereka.\n",
    "- Kami mencari korelasi antara variabel dan mengidentifikasi fitur yang mungkin memiliki pengaruh signifikan terhadap target kami.\n",
    "\n",
    "### Persiapan Data\n",
    "- Kami membersihkan data dari missing values jika ada.\n",
    "- Kami melakukan encoding jika diperlukan untuk variabel kategoris.\n",
    "- Kami melakukan normalisasi atau standarisasi jika diperlukan untuk variabel numerik.\n",
    "- Kami mempersiapkan dataset untuk tahap pemodelan dengan memisahkan fitur-fitur independen dan variabel target.\n",
    "\n",
    "Analisis, eksplorasi, dan persiapan data adalah langkah penting dalam proses analisis data kami. Ini membantu kami memahami data dengan lebih baik dan mempersiapkannya untuk langkah-langkah analisis selanjutnya.\n"
   ]
  },
  {
   "cell_type": "code",
   "execution_count": 13,
   "id": "195e472c",
   "metadata": {},
   "outputs": [
    {
     "data": {
      "text/plain": [
       "<AxesSubplot:xlabel='horsepower', ylabel='Density'>"
      ]
     },
     "execution_count": 13,
     "metadata": {},
     "output_type": "execute_result"
    },
    {
     "data": {
      "image/png": "[encoded data removed]",
      "text/plain": [
       "<Figure size 360x360 with 1 Axes>"
      ]
     },
     "metadata": {},
     "output_type": "display_data"
    }
   ],
   "source": [
    "sns.set(rc={'figure.figsize':(5,5)})\n",
    "sns.kdeplot(df['horsepower'],shade=True)"
   ]
  },
  {
   "cell_type": "code",
   "execution_count": 14,
   "id": "9f86be07",
   "metadata": {},
   "outputs": [
    {
     "data": {
      "text/plain": [
       "<AxesSubplot:xlabel='price', ylabel='Density'>"
      ]
     },
     "execution_count": 14,
     "metadata": {},
     "output_type": "execute_result"
    },
    {
     "data": {
      "image/png": "[encoded data removed]",
      "text/plain": [
       "<Figure size 360x360 with 1 Axes>"
      ]
     },
     "metadata": {},
     "output_type": "display_data"
    }
   ],
   "source": [
    "sns.set(rc={'figure.figsize':(5,5)})\n",
    "sns.kdeplot(df['price'],shade=True)"
   ]
  },
  {
   "cell_type": "markdown",
   "id": "63be1e9a",
   "metadata": {},
   "source": [
    "## Tinggi dan Rendah Frekuensi Data\n",
    "\n",
    "Dalam visualisasi histogram atau grafik batang, konsep tinggi dan rendah frekuensi data dapat dijelaskan sebagai berikut:\n",
    "\n",
    "- **Semakin tinggi bar**: Ini mengindikasikan bahwa terdapat lebih banyak data yang berada dalam rentang nilai yang sesuai dengan bar tersebut. Dengan kata lain, frekuensi data pada rentang ini lebih tinggi.\n",
    "\n",
    "- **Semakin rendah bar**: Sebaliknya, bar yang lebih rendah menunjukkan bahwa terdapat lebih sedikit data yang berada dalam rentang nilai yang sesuai dengan bar tersebut. Frekuensi data pada rentang ini lebih rendah.\n",
    "\n",
    "Dengan visualisasi ini, kita dapat dengan cepat memahami sebaran dan distribusi data dalam suatu dataset. Bar yang lebih tinggi mewakili area dengan frekuensi data yang lebih tinggi, sementara bar yang lebih rendah mewakili area dengan frekuensi data yang lebih rendah.\n"
   ]
  },
  {
   "cell_type": "code",
   "execution_count": 15,
   "id": "7fbb6dd8",
   "metadata": {},
   "outputs": [
    {
     "data": {
      "text/plain": [
       "{'whiskers': [<matplotlib.lines.Line2D at 0x1b36c642310>,\n",
       "  <matplotlib.lines.Line2D at 0x1b36c642670>],\n",
       " 'caps': [<matplotlib.lines.Line2D at 0x1b36c6429d0>,\n",
       "  <matplotlib.lines.Line2D at 0x1b36c642be0>],\n",
       " 'boxes': [<matplotlib.lines.Line2D at 0x1b36c632fd0>],\n",
       " 'medians': [<matplotlib.lines.Line2D at 0x1b36c642f10>],\n",
       " 'fliers': [<matplotlib.lines.Line2D at 0x1b36c64c280>],\n",
       " 'means': []}"
      ]
     },
     "execution_count": 15,
     "metadata": {},
     "output_type": "execute_result"
    },
    {
     "data": {
      "image/png": "[encoded data removed]",
      "text/plain": [
       "<Figure size 360x360 with 1 Axes>"
      ]
     },
     "metadata": {},
     "output_type": "display_data"
    }
   ],
   "source": [
    "plt.boxplot(df['horsepower'])"
   ]
  },
  {
   "cell_type": "code",
   "execution_count": 16,
   "id": "1076cc64",
   "metadata": {},
   "outputs": [
    {
     "data": {
      "text/plain": [
       "{'whiskers': [<matplotlib.lines.Line2D at 0x1b36c68fc10>,\n",
       "  <matplotlib.lines.Line2D at 0x1b36c68ff70>],\n",
       " 'caps': [<matplotlib.lines.Line2D at 0x1b36c69c310>,\n",
       "  <matplotlib.lines.Line2D at 0x1b36c69c610>],\n",
       " 'boxes': [<matplotlib.lines.Line2D at 0x1b36c68f8b0>],\n",
       " 'medians': [<matplotlib.lines.Line2D at 0x1b36c69c970>],\n",
       " 'fliers': [<matplotlib.lines.Line2D at 0x1b36c69ccd0>],\n",
       " 'means': []}"
      ]
     },
     "execution_count": 16,
     "metadata": {},
     "output_type": "execute_result"
    },
    {
     "data": {
      "image/png": "[encoded data removed]",
      "text/plain": [
       "<Figure size 360x360 with 1 Axes>"
      ]
     },
     "metadata": {},
     "output_type": "display_data"
    }
   ],
   "source": [
    "plt.boxplot(df['price'])"
   ]
  },
  {
   "cell_type": "markdown",
   "id": "dc114227",
   "metadata": {},
   "source": [
    "## Pencilan (Outlier) Setelah Nilai Maksimum Horsepower\n",
    "\n",
    "Dalam analisis kami, kami menemukan adanya pencilan (outlier) setelah nilai maksimum dalam variabel horsepower. Pencilan ini dapat dilihat sebagai nilai-nilai yang berada di atas nilai maksimum umum dari data.\n",
    "\n",
    "Selain itu, nilai median dari dataset kami terletak di garis merah dalam distribusi data kami. Di atas nilai median, terdapat nilai quartil atas yang menandakan batas atas dari kuartil atas data.\n",
    "\n",
    "Namun, di atas nilai quartil atas, kita dapat mengidentifikasi keberadaan nilai-nilai yang lebih tinggi dan di luar batas kuartil atas. Nilai-nilai ini dapat dianggap sebagai outlier karena mereka signifikan lebih tinggi daripada sebagian besar data dalam dataset.\n",
    "\n",
    "Pemahaman tentang adanya outlier ini penting dalam analisis data kami karena mereka dapat mempengaruhi hasil analisis statistik dan model yang dibangun. Oleh karena itu, kami akan mempertimbangkan tindakan yang sesuai untuk mengatasi outlier ini dalam analisis kami.\n"
   ]
  },
  {
   "cell_type": "markdown",
   "id": "a4210480",
   "metadata": {},
   "source": [
    "## Analisis Menggunakan Scatterplot\n",
    "\n",
    "Kami melakukan analisis data menggunakan scatterplot untuk memahami hubungan antara dua variabel tertentu dalam dataset kami. Scatterplot adalah alat visual yang berguna untuk memvisualisasikan sebaran titik-titik data dalam ruang dua dimensi.\n",
    "\n",
    "Dalam analisis kami, kami memilih variabel [Horsepower] sebagai sumbu X dan variabel [Price] sebagai sumbu Y. Setiap titik dalam scatterplot mewakili pengamatan dalam dataset kami, dengan sumbu X dan Y mewakili nilai-nilai variabel yang sesuai.\n",
    "\n",
    "Hasil analisis scatterplot kami menunjukkan:\n",
    "- Adanya [Hubungan Kuat] antara variabel [Horsepower] dan [Price].\n",
    "\n",
    "Analisis ini memberikan wawasan visual tentang hubungan antara kedua variabel tersebut dalam dataset kami dan dapat menjadi dasar untuk analisis lebih lanjut.\n"
   ]
  },
  {
   "cell_type": "code",
   "execution_count": 17,
   "id": "5d443cbb",
   "metadata": {},
   "outputs": [
    {
     "data": {
      "image/png": "[encoded data removed]",
      "text/plain": [
       "<Figure size 360x360 with 1 Axes>"
      ]
     },
     "metadata": {},
     "output_type": "display_data"
    }
   ],
   "source": [
    "sns.scatterplot(x=df.index,y=df['price'], hue=df['horsepower'])\n",
    "plt.show()"
   ]
  },
  {
   "cell_type": "markdown",
   "id": "7943a4d3",
   "metadata": {},
   "source": [
    "## RegresI\n",
    "\n",
    "Hasil dari analisis regresi kami adalah [Semakin Besar Horsepower Harga Semakin Tinggi]. Hasil ini membantu kami dalam memahami dan menjelaskan hubungan antara variabel kami serta membuat prediksi berdasarkan data yang ada.\n",
    "\n",
    "Regresi adalah alat penting dalam analisis data yang digunakan untuk mengidentifikasi pola, tren, dan hubungan dalam dataset kami.\n"
   ]
  },
  {
   "cell_type": "code",
   "execution_count": 18,
   "id": "cc7ea5d8",
   "metadata": {},
   "outputs": [
    {
     "data": {
      "image/png": "[encoded data removed]",
      "text/plain": [
       "<Figure size 360x360 with 1 Axes>"
      ]
     },
     "metadata": {},
     "output_type": "display_data"
    }
   ],
   "source": [
    "plt.scatter(df['horsepower'], df['price'])\n",
    "plt.xlabel('horsepower')\n",
    "plt.ylabel('price')\n",
    "plt.title('Scatter Plot Horsepower dan Price')\n",
    "plt.show()"
   ]
  },
  {
   "cell_type": "markdown",
   "id": "bf88dfe6",
   "metadata": {},
   "source": [
    "## Hubungan Antara Price dan Horsepower\n",
    "\n",
    "Dalam analisis kami, kami menemukan bahwa terdapat hubungan yang sangat kuat dan positif antara variabel Price (harga) dan variabel Horsepower (tenaga kuda) dalam dataset kami. Hubungan ini juga ditemukan sebagai signifikan.\n",
    "\n",
    "Hal ini berarti bahwa dengan bertambahnya nilai dari Horsepower, nilai Price pun cenderung meningkat. Dengan kata lain, adanya peningkatan tenaga kuda pada kendaraan dapat memiliki dampak positif yang signifikan pada harganya.\n",
    "\n",
    "Temuan ini adalah penting dalam memahami faktor-faktor yang mempengaruhi harga kendaraan dalam dataset kami dan dapat digunakan untuk membuat prediksi harga berdasarkan tenaga kuda. Korelasi yang sangat kuat ini menunjukkan hubungan yang kuat antara kedua variabel tersebut dalam analisis kami.\n"
   ]
  },
  {
   "cell_type": "code",
   "execution_count": 19,
   "id": "c8aae8dc",
   "metadata": {},
   "outputs": [
    {
     "data": {
      "text/html": [
       "<div>\n",
       "<style scoped>\n",
       "    .dataframe tbody tr th:only-of-type {\n",
       "        vertical-align: middle;\n",
       "    }\n",
       "\n",
       "    .dataframe tbody tr th {\n",
       "        vertical-align: top;\n",
       "    }\n",
       "\n",
       "    .dataframe thead th {\n",
       "        text-align: right;\n",
       "    }\n",
       "</style>\n",
       "<table border=\"1\" class=\"dataframe\">\n",
       "  <thead>\n",
       "    <tr style=\"text-align: right;\">\n",
       "      <th></th>\n",
       "      <th>horsepower</th>\n",
       "      <th>price</th>\n",
       "    </tr>\n",
       "  </thead>\n",
       "  <tbody>\n",
       "    <tr>\n",
       "      <th>horsepower</th>\n",
       "      <td>1.000000</td>\n",
       "      <td>0.811097</td>\n",
       "    </tr>\n",
       "    <tr>\n",
       "      <th>price</th>\n",
       "      <td>0.811097</td>\n",
       "      <td>1.000000</td>\n",
       "    </tr>\n",
       "  </tbody>\n",
       "</table>\n",
       "</div>"
      ],
      "text/plain": [
       "            horsepower     price\n",
       "horsepower    1.000000  0.811097\n",
       "price         0.811097  1.000000"
      ]
     },
     "execution_count": 19,
     "metadata": {},
     "output_type": "execute_result"
    }
   ],
   "source": [
    "new.corr()"
   ]
  },
  {
   "cell_type": "markdown",
   "id": "573f949a",
   "metadata": {},
   "source": [
    "## Korelasi yang Sangat Tinggi\n",
    "\n",
    "Hasil analisis kami menunjukkan bahwa nilai korelasi antara variabel Price (harga) dan variabel Horsepower (tenaga kuda) adalah sebesar 0.811. Nilai ini termasuk dalam kategori \"sangat tinggi\" dalam tingkat korelasi.\n",
    "\n",
    "Korelasi yang sangat tinggi ini menunjukkan hubungan yang kuat dan positif antara kedua variabel tersebut dalam dataset kami. Dengan nilai korelasi sebesar ini, dapat disimpulkan bahwa perubahan dalam tenaga kuda (Horsepower) sangat berpengaruh terhadap perubahan harga (Price) kendaraan. Peningkatan tenaga kuda cenderung meningkatkan harga kendaraan secara signifikan.\n",
    "\n",
    "Informasi ini memberikan pemahaman yang lebih dalam tentang kuatnya hubungan antara Price dan Horsepower dalam dataset kami dan dapat digunakan dalam analisis dan prediksi lebih lanjut.\n"
   ]
  },
  {
   "cell_type": "code",
   "execution_count": 20,
   "id": "88ff694a",
   "metadata": {},
   "outputs": [],
   "source": [
    "#Pertama, buat va|riabel x dan y.\n",
    "x = new['horsepower'].values.reshape(-1,1)\n",
    "y = new['price'].values.reshape(-1,1)"
   ]
  },
  {
   "cell_type": "markdown",
   "id": "22ac0f87",
   "metadata": {},
   "source": [
    "tahap Modelling.\n",
    "---"
   ]
  },
  {
   "cell_type": "code",
   "execution_count": 21,
   "id": "a604adfe",
   "metadata": {},
   "outputs": [],
   "source": [
    "x_train, x_test, y_train, y_test = train_test_split(x, y, test_size=0.2)"
   ]
  },
  {
   "cell_type": "markdown",
   "id": "cb7f3d12",
   "metadata": {},
   "source": [
    "Data dibagi menjadi 2 bagian: \n",
    "---\n",
    "○ Data Latih (Training Data): untuk mengembangkan model\n",
    "\n",
    "○ Data Uji (Testing Data): untuk Mengukur performansi model"
   ]
  },
  {
   "cell_type": "code",
   "execution_count": 22,
   "id": "f5fe8082",
   "metadata": {},
   "outputs": [
    {
     "name": "stdout",
     "output_type": "stream",
     "text": [
      "Banyak Data latih setelah dilakukan train-test Split:  160\n",
      "Banyak Data latih setelah dilakukan train-test Split:  40\n"
     ]
    }
   ],
   "source": [
    "print('Banyak Data latih setelah dilakukan train-test Split: ', len(x_train))\n",
    "print('Banyak Data latih setelah dilakukan train-test Split: ', len(x_test))"
   ]
  },
  {
   "cell_type": "markdown",
   "id": "b8eba16f",
   "metadata": {},
   "source": [
    "object linear regresi.\n",
    "---"
   ]
  },
  {
   "cell_type": "code",
   "execution_count": 23,
   "id": "52c6bc09",
   "metadata": {},
   "outputs": [],
   "source": [
    "regresilinear = LinearRegression()"
   ]
  },
  {
   "cell_type": "markdown",
   "id": "f12f2130",
   "metadata": {},
   "source": [
    "## Pelatihan Model dengan Data Pelatihan yang Sudah Displit\n",
    "\n",
    "Dalam tahap ini, kami melakukan pelatihan model menggunakan data pelatihan yang telah kami pisahkan sebelumnya dari dataset"
   ]
  },
  {
   "cell_type": "code",
   "execution_count": 24,
   "id": "d55bf353",
   "metadata": {},
   "outputs": [
    {
     "data": {
      "text/plain": [
       "LinearRegression()"
      ]
     },
     "execution_count": 24,
     "metadata": {},
     "output_type": "execute_result"
    }
   ],
   "source": [
    "regresilinear.fit(x_train, y_train)"
   ]
  },
  {
   "cell_type": "code",
   "execution_count": 25,
   "id": "f04a1b28",
   "metadata": {},
   "outputs": [
    {
     "name": "stdout",
     "output_type": "stream",
     "text": [
      "[[173.95806856]]\n",
      "[-4684.12751952]\n"
     ]
    }
   ],
   "source": [
    "print(regresilinear.coef_)\n",
    "print(regresilinear.intercept_)"
   ]
  },
  {
   "cell_type": "markdown",
   "id": "2d2285f1",
   "metadata": {},
   "source": [
    "## Koefisien Regresi\n",
    "\n",
    "Dalam hasil analisis regresi kami, kami menemukan nilai slope (koefisien m) dan intercept (b) yang digunakan dalam model regresi kami:\n",
    "\n",
    "- Slope (Koefisien m): 163.84565026\n",
    "- Intercept (b): -3908.67363213\n",
    "\n",
    "Koefisien m menggambarkan seberapa besar pengaruh variabel independen (Horsepower) terhadap variabel dependen (Price). Dalam konteks ini, setiap peningkatan satu unit Horsepower akan mengakibatkan peningkatan sekitar 163.85 unit dalam harga Price.\n",
    "\n",
    "Intercept (b) adalah titik pada garis regresi yang memotong sumbu Y (Price) ketika nilai Horsepower adalah nol. Ini mewakili harga dasar atau harga awal yang tidak dipengaruhi oleh Horsepower.\n",
    "\n",
    "Informasi ini adalah parameter penting dalam model regresi kami dan digunakan untuk membuat prediksi harga berdasarkan nilai Horsepower.\n"
   ]
  },
  {
   "cell_type": "code",
   "execution_count": 26,
   "id": "1c927e26",
   "metadata": {},
   "outputs": [
    {
     "data": {
      "text/plain": [
       "0.6244066515352704"
      ]
     },
     "execution_count": 26,
     "metadata": {},
     "output_type": "execute_result"
    }
   ],
   "source": [
    "regresilinear.score(x_test, y_test)"
   ]
  },
  {
   "cell_type": "markdown",
   "id": "c2756d00",
   "metadata": {},
   "source": [
    "## Skor Model Regresi Linear\n",
    "\n",
    "Hasil dari penggunaan fungsi `regresilinear.score(x_test, y_test)` untuk mengukur kinerja model regresi linear kami adalah sekitar 0.6244.\n",
    "\n",
    "Skor ini adalah ukuran seberapa baik model kami cocok dengan data uji (x_test, y_test). Skor semakin mendekati 1, semakin baik model kami dalam melakukan prediksi. Dengan skor sekitar 0.6244, ini menunjukkan bahwa model kami memiliki tingkat kecocokan yang cukup baik dengan data uji kami.\n"
   ]
  },
  {
   "cell_type": "code",
   "execution_count": 27,
   "id": "9e8d1cbc",
   "metadata": {},
   "outputs": [
    {
     "data": {
      "text/plain": [
       "Text(0.5, 1.0, 'Plot Horsepower vs Price')"
      ]
     },
     "execution_count": 27,
     "metadata": {},
     "output_type": "execute_result"
    },
    {
     "data": {
      "image/png": "[encoded data removed]",
      "text/plain": [
       "<Figure size 360x360 with 1 Axes>"
      ]
     },
     "metadata": {},
     "output_type": "display_data"
    }
   ],
   "source": [
    "y_prediksi = regresilinear.predict(x_test)\n",
    "plt.scatter(x_test, y_test)\n",
    "plt.plot(x_test, y_prediksi, c='r')\n",
    "plt.xlabel('horsepower')\n",
    "plt.ylabel('price')\n",
    "plt.title('Plot Horsepower vs Price')"
   ]
  },
  {
   "cell_type": "markdown",
   "id": "adf7298f",
   "metadata": {},
   "source": [
    "## Prediksi Harga Mobil\n",
    "\n",
    "Kami telah menggunakan model regresi linear kami untuk melakukan prediksi harga mobil berdasarkan Horsepower (tenaga kuda) dengan nilai-nilai berikut:\n",
    "\n",
    "- Horsepower 100: Prediksi Harga Mobil sekitar $[harga prediksi 100 HP].\n",
    "- Horsepower 150: Prediksi Harga Mobil sekitar $[harga prediksi 150 HP].\n",
    "- Horsepower 200: Prediksi Harga Mobil sekitar $[harga prediksi 200 HP].\n",
    "\n",
    "Prediksi ini didasarkan pada model regresi linear yang kami latih sebelumnya. Dengan demikian, kami dapat memperkirakan harga mobil dengan Horsepower tertentu menggunakan model ini.\n"
   ]
  },
  {
   "cell_type": "markdown",
   "id": "e39bbe36",
   "metadata": {},
   "source": [
    "Prediksi harga mobil dengan horsepower 100.\n",
    "---"
   ]
  },
  {
   "cell_type": "code",
   "execution_count": 46,
   "id": "7890e5d8",
   "metadata": {},
   "outputs": [
    {
     "data": {
      "text/plain": [
       "array([[12711.67933634]])"
      ]
     },
     "execution_count": 46,
     "metadata": {},
     "output_type": "execute_result"
    }
   ],
   "source": [
    "regresilinear.predict([[100]])"
   ]
  },
  {
   "cell_type": "markdown",
   "id": "503d8360",
   "metadata": {},
   "source": [
    "Prediksi harga mobil dengan horsepower 150.\n",
    "---"
   ]
  },
  {
   "cell_type": "code",
   "execution_count": 42,
   "id": "3bcc1267",
   "metadata": {},
   "outputs": [
    {
     "data": {
      "text/plain": [
       "array([[21409.58276428]])"
      ]
     },
     "execution_count": 42,
     "metadata": {},
     "output_type": "execute_result"
    }
   ],
   "source": [
    "regresilinear.predict([[150]])"
   ]
  },
  {
   "cell_type": "markdown",
   "id": "00915458",
   "metadata": {},
   "source": [
    "Prediksi harga mobil dengan horsepower 200.\n",
    "---"
   ]
  },
  {
   "cell_type": "code",
   "execution_count": null,
   "id": "fecfb25b",
   "metadata": {},
   "outputs": [],
   "source": [
    "regresilinear.predict([[200]])"
   ]
  },
  {
   "cell_type": "markdown",
   "id": "f6c27943",
   "metadata": {},
   "source": [
    "## Prediksi Harga Mobil\n",
    "\n",
    "Kami telah menggunakan model regresi linear kami untuk melakukan prediksi harga mobil berdasarkan Horsepower (tenaga kuda) dengan nilai-nilai berikut:\n",
    "\n",
    "- Horsepower 100: Prediksi Harga Mobil sekitar $12,711.68.\n",
    "- Horsepower 150: Prediksi Harga Mobil sekitar $21,409.58.\n",
    "\n",
    "Prediksi ini didasarkan pada model regresi linear yang kami latih sebelumnya. Dengan demikian, kami dapat memperkirakan harga mobil dengan Horsepower tertentu menggunakan model ini.\n"
   ]
  },
  {
   "cell_type": "markdown",
   "id": "5267eaa6",
   "metadata": {},
   "source": [
    "## Prediksi Harga Mobil dalam Rupiah\n",
    "\n",
    "Dengan menggunakan nilai tukar mata uang 1 DOLLAR = 15,344.10, kami mengonversi prediksi harga mobil dari dolar ke rupiah sebagai berikut:\n",
    "\n",
    "- Harga Mobil dengan Horsepower 100 HP dalam rupiah: $12,711.68 x 15,344.10 = Rp 195,203,774.08\n",
    "\n",
    "- Harga Mobil dengan Horsepower 150 HP dalam rupiah: $21,409.58 x 15,344.10 = Rp 328,581,537.78\n"
   ]
  },
  {
   "cell_type": "markdown",
   "id": "ba2fb276",
   "metadata": {},
   "source": [
    "## Kesimpulan\n",
    "\n",
    "Dalam analisis ini, kami mencapai beberapa kesimpulan penting:\n",
    "\n",
    "1. **Data dan Preprocessing:**\n",
    "   - Kami menggunakan dataset prediksi mobil.\n",
    "   - Data dibersihkan dari missing value dan outliers.\n",
    "   - Distribusi data horsepower dan price terlihat normal.\n",
    "\n",
    "2. **Korelasi:**\n",
    "   - Terdapat korelasi positif yang kuat antara horsepower dan price.\n",
    "\n",
    "3. **Model Regresia:**\n",
    "   - Kami membentuk model regresi linear sederhana dengan horsepower sebagai variabel independen dan price sebagai variabel dependen.\n",
    "   - Kami mengobservasi bahwa harga mobil diprediksi akan meningkat sebesar 2500 dolar untuk setiap peningkatan 10 horsepower.\n",
    "\n",
    "4. **Kesimpulan Akhir:**\n",
    "   - Model regresi lineara yang dibentuk dapat digunakan untuk memprediksi harga mobil berdasarkan dataset yang digunakan.\n",
    "   - Namun, perlu dicatat bahwa model ini hanya berlaku untuk dataset ini dan tidak dapat digeneralisasi ke dataset lain.\n",
    "\n",
    "## Saran untuk Perbaikan\n",
    "\n",
    "Untuk meningkatkan analisis ini, kami merekomendasikan langkah-langkah berikut:\n",
    "\n",
    "1. Melakukan EDA lebih lanjut untuk melihat apakah ada faktor lain yang mempengaruhi harga mobil selain horsepower.\n",
    "2. Melakukan cross-validation untuk mengevaluasi akurasi model dengan lebih baik."
   ]
  },
  {
   "cell_type": "markdown",
   "id": "8193d3ce",
   "metadata": {},
   "source": [
    "    "
   ]
  }
 ],
 "metadata": {
  "kernelspec": {
   "display_name": "Python 3",
   "language": "python",
   "name": "python3"
  },
  "language_info": {
   "codemirror_mode": {
    "name": "ipython",
    "version": 3
   },
   "file_extension": ".py",
   "mimetype": "text/x-python",
   "name": "python",
   "nbconvert_exporter": "python",
   "pygments_lexer": "ipython3",
   "version": "3.8.8"
  }
 },
 "nbformat": 4,
 "nbformat_minor": 5
}
